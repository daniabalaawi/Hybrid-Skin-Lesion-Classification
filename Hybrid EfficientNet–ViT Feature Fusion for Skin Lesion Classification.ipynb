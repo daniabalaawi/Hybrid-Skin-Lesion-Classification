{
  "nbformat": 4,
  "nbformat_minor": 0,
  "metadata": {
    "colab": {
      "provenance": []
    },
    "kernelspec": {
      "name": "python3",
      "display_name": "Python 3"
    },
    "language_info": {
      "name": "python"
    },
    "widgets": {
      "application/vnd.jupyter.widget-state+json": {
        "cfd0cc12a79d45f881b006a178b26297": {
          "model_module": "@jupyter-widgets/controls",
          "model_name": "HBoxModel",
          "model_module_version": "1.5.0",
          "state": {
            "_dom_classes": [],
            "_model_module": "@jupyter-widgets/controls",
            "_model_module_version": "1.5.0",
            "_model_name": "HBoxModel",
            "_view_count": null,
            "_view_module": "@jupyter-widgets/controls",
            "_view_module_version": "1.5.0",
            "_view_name": "HBoxView",
            "box_style": "",
            "children": [
              "IPY_MODEL_c6588110df5b4b5889479df0ccbff75f",
              "IPY_MODEL_f86aa2d618834422867bee09fd60fafc",
              "IPY_MODEL_d070c67114bc4ab5b29f1d6cc0dd35f5"
            ],
            "layout": "IPY_MODEL_cc95d240adb1480099bd40626c0dd2ba"
          }
        },
        "c6588110df5b4b5889479df0ccbff75f": {
          "model_module": "@jupyter-widgets/controls",
          "model_name": "HTMLModel",
          "model_module_version": "1.5.0",
          "state": {
            "_dom_classes": [],
            "_model_module": "@jupyter-widgets/controls",
            "_model_module_version": "1.5.0",
            "_model_name": "HTMLModel",
            "_view_count": null,
            "_view_module": "@jupyter-widgets/controls",
            "_view_module_version": "1.5.0",
            "_view_name": "HTMLView",
            "description": "",
            "description_tooltip": null,
            "layout": "IPY_MODEL_4c16e10b45fc417c92d92dc21e97f326",
            "placeholder": "​",
            "style": "IPY_MODEL_96fba70d766e408ca3adc43249a1cfa6",
            "value": "model.safetensors: 100%"
          }
        },
        "f86aa2d618834422867bee09fd60fafc": {
          "model_module": "@jupyter-widgets/controls",
          "model_name": "FloatProgressModel",
          "model_module_version": "1.5.0",
          "state": {
            "_dom_classes": [],
            "_model_module": "@jupyter-widgets/controls",
            "_model_module_version": "1.5.0",
            "_model_name": "FloatProgressModel",
            "_view_count": null,
            "_view_module": "@jupyter-widgets/controls",
            "_view_module_version": "1.5.0",
            "_view_name": "ProgressView",
            "bar_style": "success",
            "description": "",
            "description_tooltip": null,
            "layout": "IPY_MODEL_e239443354f64e1993d106c5220ac812",
            "max": 21355344,
            "min": 0,
            "orientation": "horizontal",
            "style": "IPY_MODEL_327ac84926ad4ee5b7bd341efb7919a9",
            "value": 21355344
          }
        },
        "d070c67114bc4ab5b29f1d6cc0dd35f5": {
          "model_module": "@jupyter-widgets/controls",
          "model_name": "HTMLModel",
          "model_module_version": "1.5.0",
          "state": {
            "_dom_classes": [],
            "_model_module": "@jupyter-widgets/controls",
            "_model_module_version": "1.5.0",
            "_model_name": "HTMLModel",
            "_view_count": null,
            "_view_module": "@jupyter-widgets/controls",
            "_view_module_version": "1.5.0",
            "_view_name": "HTMLView",
            "description": "",
            "description_tooltip": null,
            "layout": "IPY_MODEL_c76fd38230c945acaa6c44dcf0e55cc2",
            "placeholder": "​",
            "style": "IPY_MODEL_f744eb31b8dd4c2f8e991bdc99cc4be7",
            "value": " 21.4M/21.4M [00:00&lt;00:00, 38.3MB/s]"
          }
        },
        "cc95d240adb1480099bd40626c0dd2ba": {
          "model_module": "@jupyter-widgets/base",
          "model_name": "LayoutModel",
          "model_module_version": "1.2.0",
          "state": {
            "_model_module": "@jupyter-widgets/base",
            "_model_module_version": "1.2.0",
            "_model_name": "LayoutModel",
            "_view_count": null,
            "_view_module": "@jupyter-widgets/base",
            "_view_module_version": "1.2.0",
            "_view_name": "LayoutView",
            "align_content": null,
            "align_items": null,
            "align_self": null,
            "border": null,
            "bottom": null,
            "display": null,
            "flex": null,
            "flex_flow": null,
            "grid_area": null,
            "grid_auto_columns": null,
            "grid_auto_flow": null,
            "grid_auto_rows": null,
            "grid_column": null,
            "grid_gap": null,
            "grid_row": null,
            "grid_template_areas": null,
            "grid_template_columns": null,
            "grid_template_rows": null,
            "height": null,
            "justify_content": null,
            "justify_items": null,
            "left": null,
            "margin": null,
            "max_height": null,
            "max_width": null,
            "min_height": null,
            "min_width": null,
            "object_fit": null,
            "object_position": null,
            "order": null,
            "overflow": null,
            "overflow_x": null,
            "overflow_y": null,
            "padding": null,
            "right": null,
            "top": null,
            "visibility": null,
            "width": null
          }
        },
        "4c16e10b45fc417c92d92dc21e97f326": {
          "model_module": "@jupyter-widgets/base",
          "model_name": "LayoutModel",
          "model_module_version": "1.2.0",
          "state": {
            "_model_module": "@jupyter-widgets/base",
            "_model_module_version": "1.2.0",
            "_model_name": "LayoutModel",
            "_view_count": null,
            "_view_module": "@jupyter-widgets/base",
            "_view_module_version": "1.2.0",
            "_view_name": "LayoutView",
            "align_content": null,
            "align_items": null,
            "align_self": null,
            "border": null,
            "bottom": null,
            "display": null,
            "flex": null,
            "flex_flow": null,
            "grid_area": null,
            "grid_auto_columns": null,
            "grid_auto_flow": null,
            "grid_auto_rows": null,
            "grid_column": null,
            "grid_gap": null,
            "grid_row": null,
            "grid_template_areas": null,
            "grid_template_columns": null,
            "grid_template_rows": null,
            "height": null,
            "justify_content": null,
            "justify_items": null,
            "left": null,
            "margin": null,
            "max_height": null,
            "max_width": null,
            "min_height": null,
            "min_width": null,
            "object_fit": null,
            "object_position": null,
            "order": null,
            "overflow": null,
            "overflow_x": null,
            "overflow_y": null,
            "padding": null,
            "right": null,
            "top": null,
            "visibility": null,
            "width": null
          }
        },
        "96fba70d766e408ca3adc43249a1cfa6": {
          "model_module": "@jupyter-widgets/controls",
          "model_name": "DescriptionStyleModel",
          "model_module_version": "1.5.0",
          "state": {
            "_model_module": "@jupyter-widgets/controls",
            "_model_module_version": "1.5.0",
            "_model_name": "DescriptionStyleModel",
            "_view_count": null,
            "_view_module": "@jupyter-widgets/base",
            "_view_module_version": "1.2.0",
            "_view_name": "StyleView",
            "description_width": ""
          }
        },
        "e239443354f64e1993d106c5220ac812": {
          "model_module": "@jupyter-widgets/base",
          "model_name": "LayoutModel",
          "model_module_version": "1.2.0",
          "state": {
            "_model_module": "@jupyter-widgets/base",
            "_model_module_version": "1.2.0",
            "_model_name": "LayoutModel",
            "_view_count": null,
            "_view_module": "@jupyter-widgets/base",
            "_view_module_version": "1.2.0",
            "_view_name": "LayoutView",
            "align_content": null,
            "align_items": null,
            "align_self": null,
            "border": null,
            "bottom": null,
            "display": null,
            "flex": null,
            "flex_flow": null,
            "grid_area": null,
            "grid_auto_columns": null,
            "grid_auto_flow": null,
            "grid_auto_rows": null,
            "grid_column": null,
            "grid_gap": null,
            "grid_row": null,
            "grid_template_areas": null,
            "grid_template_columns": null,
            "grid_template_rows": null,
            "height": null,
            "justify_content": null,
            "justify_items": null,
            "left": null,
            "margin": null,
            "max_height": null,
            "max_width": null,
            "min_height": null,
            "min_width": null,
            "object_fit": null,
            "object_position": null,
            "order": null,
            "overflow": null,
            "overflow_x": null,
            "overflow_y": null,
            "padding": null,
            "right": null,
            "top": null,
            "visibility": null,
            "width": null
          }
        },
        "327ac84926ad4ee5b7bd341efb7919a9": {
          "model_module": "@jupyter-widgets/controls",
          "model_name": "ProgressStyleModel",
          "model_module_version": "1.5.0",
          "state": {
            "_model_module": "@jupyter-widgets/controls",
            "_model_module_version": "1.5.0",
            "_model_name": "ProgressStyleModel",
            "_view_count": null,
            "_view_module": "@jupyter-widgets/base",
            "_view_module_version": "1.2.0",
            "_view_name": "StyleView",
            "bar_color": null,
            "description_width": ""
          }
        },
        "c76fd38230c945acaa6c44dcf0e55cc2": {
          "model_module": "@jupyter-widgets/base",
          "model_name": "LayoutModel",
          "model_module_version": "1.2.0",
          "state": {
            "_model_module": "@jupyter-widgets/base",
            "_model_module_version": "1.2.0",
            "_model_name": "LayoutModel",
            "_view_count": null,
            "_view_module": "@jupyter-widgets/base",
            "_view_module_version": "1.2.0",
            "_view_name": "LayoutView",
            "align_content": null,
            "align_items": null,
            "align_self": null,
            "border": null,
            "bottom": null,
            "display": null,
            "flex": null,
            "flex_flow": null,
            "grid_area": null,
            "grid_auto_columns": null,
            "grid_auto_flow": null,
            "grid_auto_rows": null,
            "grid_column": null,
            "grid_gap": null,
            "grid_row": null,
            "grid_template_areas": null,
            "grid_template_columns": null,
            "grid_template_rows": null,
            "height": null,
            "justify_content": null,
            "justify_items": null,
            "left": null,
            "margin": null,
            "max_height": null,
            "max_width": null,
            "min_height": null,
            "min_width": null,
            "object_fit": null,
            "object_position": null,
            "order": null,
            "overflow": null,
            "overflow_x": null,
            "overflow_y": null,
            "padding": null,
            "right": null,
            "top": null,
            "visibility": null,
            "width": null
          }
        },
        "f744eb31b8dd4c2f8e991bdc99cc4be7": {
          "model_module": "@jupyter-widgets/controls",
          "model_name": "DescriptionStyleModel",
          "model_module_version": "1.5.0",
          "state": {
            "_model_module": "@jupyter-widgets/controls",
            "_model_module_version": "1.5.0",
            "_model_name": "DescriptionStyleModel",
            "_view_count": null,
            "_view_module": "@jupyter-widgets/base",
            "_view_module_version": "1.2.0",
            "_view_name": "StyleView",
            "description_width": ""
          }
        },
        "fa575772c5f6471292dd3aa62e702bd8": {
          "model_module": "@jupyter-widgets/controls",
          "model_name": "HBoxModel",
          "model_module_version": "1.5.0",
          "state": {
            "_dom_classes": [],
            "_model_module": "@jupyter-widgets/controls",
            "_model_module_version": "1.5.0",
            "_model_name": "HBoxModel",
            "_view_count": null,
            "_view_module": "@jupyter-widgets/controls",
            "_view_module_version": "1.5.0",
            "_view_name": "HBoxView",
            "box_style": "",
            "children": [
              "IPY_MODEL_bba8f6a1dba543e4955c9c92eaf4cc9e",
              "IPY_MODEL_83c4e2cd3ac24461982fb503d26f40d1",
              "IPY_MODEL_dfaccdf2fb624189bdcf5937513edba9"
            ],
            "layout": "IPY_MODEL_6b23969221084ca0bf7bd54fddf9f2ce"
          }
        },
        "bba8f6a1dba543e4955c9c92eaf4cc9e": {
          "model_module": "@jupyter-widgets/controls",
          "model_name": "HTMLModel",
          "model_module_version": "1.5.0",
          "state": {
            "_dom_classes": [],
            "_model_module": "@jupyter-widgets/controls",
            "_model_module_version": "1.5.0",
            "_model_name": "HTMLModel",
            "_view_count": null,
            "_view_module": "@jupyter-widgets/controls",
            "_view_module_version": "1.5.0",
            "_view_name": "HTMLView",
            "description": "",
            "description_tooltip": null,
            "layout": "IPY_MODEL_cffcfec5fc3e482fab422affe0f11b4c",
            "placeholder": "​",
            "style": "IPY_MODEL_aa76f66d87bd4888a3111cd1c0686af0",
            "value": "model.safetensors: 100%"
          }
        },
        "83c4e2cd3ac24461982fb503d26f40d1": {
          "model_module": "@jupyter-widgets/controls",
          "model_name": "FloatProgressModel",
          "model_module_version": "1.5.0",
          "state": {
            "_dom_classes": [],
            "_model_module": "@jupyter-widgets/controls",
            "_model_module_version": "1.5.0",
            "_model_name": "FloatProgressModel",
            "_view_count": null,
            "_view_module": "@jupyter-widgets/controls",
            "_view_module_version": "1.5.0",
            "_view_name": "ProgressView",
            "bar_style": "success",
            "description": "",
            "description_tooltip": null,
            "layout": "IPY_MODEL_9b1a7e5e5c334b08a37ab39b5fa5abec",
            "max": 346284714,
            "min": 0,
            "orientation": "horizontal",
            "style": "IPY_MODEL_b45fca6e04d2426188902ad19d86315c",
            "value": 346284714
          }
        },
        "dfaccdf2fb624189bdcf5937513edba9": {
          "model_module": "@jupyter-widgets/controls",
          "model_name": "HTMLModel",
          "model_module_version": "1.5.0",
          "state": {
            "_dom_classes": [],
            "_model_module": "@jupyter-widgets/controls",
            "_model_module_version": "1.5.0",
            "_model_name": "HTMLModel",
            "_view_count": null,
            "_view_module": "@jupyter-widgets/controls",
            "_view_module_version": "1.5.0",
            "_view_name": "HTMLView",
            "description": "",
            "description_tooltip": null,
            "layout": "IPY_MODEL_d13881cd9235468ea5d630aba1bf0295",
            "placeholder": "​",
            "style": "IPY_MODEL_89b7f2e8be0849b8b46f8a4085204ef2",
            "value": " 346M/346M [00:04&lt;00:00, 72.4MB/s]"
          }
        },
        "6b23969221084ca0bf7bd54fddf9f2ce": {
          "model_module": "@jupyter-widgets/base",
          "model_name": "LayoutModel",
          "model_module_version": "1.2.0",
          "state": {
            "_model_module": "@jupyter-widgets/base",
            "_model_module_version": "1.2.0",
            "_model_name": "LayoutModel",
            "_view_count": null,
            "_view_module": "@jupyter-widgets/base",
            "_view_module_version": "1.2.0",
            "_view_name": "LayoutView",
            "align_content": null,
            "align_items": null,
            "align_self": null,
            "border": null,
            "bottom": null,
            "display": null,
            "flex": null,
            "flex_flow": null,
            "grid_area": null,
            "grid_auto_columns": null,
            "grid_auto_flow": null,
            "grid_auto_rows": null,
            "grid_column": null,
            "grid_gap": null,
            "grid_row": null,
            "grid_template_areas": null,
            "grid_template_columns": null,
            "grid_template_rows": null,
            "height": null,
            "justify_content": null,
            "justify_items": null,
            "left": null,
            "margin": null,
            "max_height": null,
            "max_width": null,
            "min_height": null,
            "min_width": null,
            "object_fit": null,
            "object_position": null,
            "order": null,
            "overflow": null,
            "overflow_x": null,
            "overflow_y": null,
            "padding": null,
            "right": null,
            "top": null,
            "visibility": null,
            "width": null
          }
        },
        "cffcfec5fc3e482fab422affe0f11b4c": {
          "model_module": "@jupyter-widgets/base",
          "model_name": "LayoutModel",
          "model_module_version": "1.2.0",
          "state": {
            "_model_module": "@jupyter-widgets/base",
            "_model_module_version": "1.2.0",
            "_model_name": "LayoutModel",
            "_view_count": null,
            "_view_module": "@jupyter-widgets/base",
            "_view_module_version": "1.2.0",
            "_view_name": "LayoutView",
            "align_content": null,
            "align_items": null,
            "align_self": null,
            "border": null,
            "bottom": null,
            "display": null,
            "flex": null,
            "flex_flow": null,
            "grid_area": null,
            "grid_auto_columns": null,
            "grid_auto_flow": null,
            "grid_auto_rows": null,
            "grid_column": null,
            "grid_gap": null,
            "grid_row": null,
            "grid_template_areas": null,
            "grid_template_columns": null,
            "grid_template_rows": null,
            "height": null,
            "justify_content": null,
            "justify_items": null,
            "left": null,
            "margin": null,
            "max_height": null,
            "max_width": null,
            "min_height": null,
            "min_width": null,
            "object_fit": null,
            "object_position": null,
            "order": null,
            "overflow": null,
            "overflow_x": null,
            "overflow_y": null,
            "padding": null,
            "right": null,
            "top": null,
            "visibility": null,
            "width": null
          }
        },
        "aa76f66d87bd4888a3111cd1c0686af0": {
          "model_module": "@jupyter-widgets/controls",
          "model_name": "DescriptionStyleModel",
          "model_module_version": "1.5.0",
          "state": {
            "_model_module": "@jupyter-widgets/controls",
            "_model_module_version": "1.5.0",
            "_model_name": "DescriptionStyleModel",
            "_view_count": null,
            "_view_module": "@jupyter-widgets/base",
            "_view_module_version": "1.2.0",
            "_view_name": "StyleView",
            "description_width": ""
          }
        },
        "9b1a7e5e5c334b08a37ab39b5fa5abec": {
          "model_module": "@jupyter-widgets/base",
          "model_name": "LayoutModel",
          "model_module_version": "1.2.0",
          "state": {
            "_model_module": "@jupyter-widgets/base",
            "_model_module_version": "1.2.0",
            "_model_name": "LayoutModel",
            "_view_count": null,
            "_view_module": "@jupyter-widgets/base",
            "_view_module_version": "1.2.0",
            "_view_name": "LayoutView",
            "align_content": null,
            "align_items": null,
            "align_self": null,
            "border": null,
            "bottom": null,
            "display": null,
            "flex": null,
            "flex_flow": null,
            "grid_area": null,
            "grid_auto_columns": null,
            "grid_auto_flow": null,
            "grid_auto_rows": null,
            "grid_column": null,
            "grid_gap": null,
            "grid_row": null,
            "grid_template_areas": null,
            "grid_template_columns": null,
            "grid_template_rows": null,
            "height": null,
            "justify_content": null,
            "justify_items": null,
            "left": null,
            "margin": null,
            "max_height": null,
            "max_width": null,
            "min_height": null,
            "min_width": null,
            "object_fit": null,
            "object_position": null,
            "order": null,
            "overflow": null,
            "overflow_x": null,
            "overflow_y": null,
            "padding": null,
            "right": null,
            "top": null,
            "visibility": null,
            "width": null
          }
        },
        "b45fca6e04d2426188902ad19d86315c": {
          "model_module": "@jupyter-widgets/controls",
          "model_name": "ProgressStyleModel",
          "model_module_version": "1.5.0",
          "state": {
            "_model_module": "@jupyter-widgets/controls",
            "_model_module_version": "1.5.0",
            "_model_name": "ProgressStyleModel",
            "_view_count": null,
            "_view_module": "@jupyter-widgets/base",
            "_view_module_version": "1.2.0",
            "_view_name": "StyleView",
            "bar_color": null,
            "description_width": ""
          }
        },
        "d13881cd9235468ea5d630aba1bf0295": {
          "model_module": "@jupyter-widgets/base",
          "model_name": "LayoutModel",
          "model_module_version": "1.2.0",
          "state": {
            "_model_module": "@jupyter-widgets/base",
            "_model_module_version": "1.2.0",
            "_model_name": "LayoutModel",
            "_view_count": null,
            "_view_module": "@jupyter-widgets/base",
            "_view_module_version": "1.2.0",
            "_view_name": "LayoutView",
            "align_content": null,
            "align_items": null,
            "align_self": null,
            "border": null,
            "bottom": null,
            "display": null,
            "flex": null,
            "flex_flow": null,
            "grid_area": null,
            "grid_auto_columns": null,
            "grid_auto_flow": null,
            "grid_auto_rows": null,
            "grid_column": null,
            "grid_gap": null,
            "grid_row": null,
            "grid_template_areas": null,
            "grid_template_columns": null,
            "grid_template_rows": null,
            "height": null,
            "justify_content": null,
            "justify_items": null,
            "left": null,
            "margin": null,
            "max_height": null,
            "max_width": null,
            "min_height": null,
            "min_width": null,
            "object_fit": null,
            "object_position": null,
            "order": null,
            "overflow": null,
            "overflow_x": null,
            "overflow_y": null,
            "padding": null,
            "right": null,
            "top": null,
            "visibility": null,
            "width": null
          }
        },
        "89b7f2e8be0849b8b46f8a4085204ef2": {
          "model_module": "@jupyter-widgets/controls",
          "model_name": "DescriptionStyleModel",
          "model_module_version": "1.5.0",
          "state": {
            "_model_module": "@jupyter-widgets/controls",
            "_model_module_version": "1.5.0",
            "_model_name": "DescriptionStyleModel",
            "_view_count": null,
            "_view_module": "@jupyter-widgets/base",
            "_view_module_version": "1.2.0",
            "_view_name": "StyleView",
            "description_width": ""
          }
        }
      }
    }
  },
  "cells": [
    {
      "cell_type": "code",
      "execution_count": 1,
      "metadata": {
        "id": "vyS4Ek-HrnS_"
      },
      "outputs": [],
      "source": [
        "!pip install -q torch torchvision timm scikit-learn matplotlib"
      ]
    },
    {
      "cell_type": "code",
      "source": [
        "ZIP_NAME = \"Clinical Images.zip\"\n",
        "DATA_DIR_NAME = \"Clinical Images\"\n",
        "\n",
        "# Parameters\n",
        "EPOCHS = 20\n",
        "BATCH_SIZE = 16\n",
        "LR = 1e-4\n",
        "PATIENCE = 3  # Early Stopping"
      ],
      "metadata": {
        "id": "DIdRDzJtrusC"
      },
      "execution_count": 2,
      "outputs": []
    },
    {
      "cell_type": "code",
      "source": [
        "import zipfile\n",
        "\n",
        "ZIP_NAME = \"Clinical Images.zip\"\n",
        "\n",
        "with zipfile.ZipFile(f\"/content/{ZIP_NAME}\", 'r') as z:\n",
        "    z.extractall(\"/content\")\n",
        "\n",
        "DATA_DIR_NAME = \"Clinical Images\"\n",
        "\n",
        "data_dir = f\"/content/{DATA_DIR_NAME}\"\n",
        "print(\"Data directory:\", data_dir)\n",
        "\n",
        "!ls \"$data_dir\"\n",
        "!ls -la \"$data_dir\" | head -n 20"
      ],
      "metadata": {
        "colab": {
          "base_uri": "https://localhost:8080/"
        },
        "id": "D41azmnerx8t",
        "outputId": "8574e3f1-7ae3-4514-cf80-fd31c345a213"
      },
      "execution_count": 4,
      "outputs": [
        {
          "output_type": "stream",
          "name": "stdout",
          "text": [
            "Data directory: /content/Clinical Images\n",
            "'Clinical Actinic Keratosis'\t 'Clinical Pigmented Benign Keratosis'\n",
            "'Clinical Basal Cell Carcinoma'  'Clinical Seborrheic Keratosis'\n",
            "'Clinical Dermatofibroma'\t 'Clinical Squamous Cell Carcinoma'\n",
            "'Clinical Melanoma'\t\t 'Clinical Vascular Lesion'\n",
            "'Clinical Nevus'\n",
            "total 60\n",
            "drwxr-xr-x 11 root root  4096 Aug 23 16:08 .\n",
            "drwxr-xr-x  1 root root  4096 Aug 23 16:08 ..\n",
            "drwxr-xr-x  2 root root  4096 Aug 23 16:08 Clinical Actinic Keratosis\n",
            "drwxr-xr-x  2 root root  4096 Aug 23 16:08 Clinical Basal Cell Carcinoma\n",
            "drwxr-xr-x  2 root root  4096 Aug 23 16:08 Clinical Dermatofibroma\n",
            "drwxr-xr-x  2 root root  4096 Aug 23 16:08 Clinical Melanoma\n",
            "drwxr-xr-x  2 root root  4096 Aug 23 16:08 Clinical Nevus\n",
            "drwxr-xr-x  2 root root  4096 Aug 23 16:08 Clinical Pigmented Benign Keratosis\n",
            "drwxr-xr-x  2 root root  4096 Aug 23 16:08 Clinical Seborrheic Keratosis\n",
            "drwxr-xr-x  2 root root  4096 Aug 23 16:08 Clinical Squamous Cell Carcinoma\n",
            "drwxr-xr-x  2 root root  4096 Aug 23 16:08 Clinical Vascular Lesion\n",
            "-rw-r--r--  1 root root 14340 Aug 23 16:08 .DS_Store\n"
          ]
        }
      ]
    },
    {
      "cell_type": "code",
      "source": [
        "import torch\n",
        "from torch.utils.data import DataLoader, random_split\n",
        "from torchvision import datasets, transforms\n",
        "import numpy as np, random\n",
        "\n",
        "def set_seed(seed=42):\n",
        "    random.seed(seed); np.random.seed(seed)\n",
        "    torch.manual_seed(seed); torch.cuda.manual_seed_all(seed)\n",
        "    torch.backends.cudnn.deterministic = True\n",
        "    torch.backends.cudnn.benchmark = False\n",
        "set_seed(42)\n",
        "\n",
        "transform = transforms.Compose([\n",
        "    transforms.Resize((224, 224)),\n",
        "    transforms.ToTensor(),\n",
        "    transforms.Normalize([0.485, 0.456, 0.406],\n",
        "                         [0.229, 0.224, 0.225]),\n",
        "])\n",
        "\n",
        "full_dataset = datasets.ImageFolder(root=data_dir, transform=transform)\n",
        "\n",
        "train_size = int(0.7 * len(full_dataset))\n",
        "val_size   = int(0.15 * len(full_dataset))\n",
        "test_size  = len(full_dataset) - train_size - val_size\n",
        "\n",
        "train_ds, val_ds, test_ds = random_split(full_dataset, [train_size, val_size, test_size])\n",
        "\n",
        "train_loader = DataLoader(train_ds, batch_size=BATCH_SIZE, shuffle=True,  num_workers=2)\n",
        "val_loader   = DataLoader(val_ds,   batch_size=BATCH_SIZE, shuffle=False, num_workers=2)\n",
        "test_loader  = DataLoader(test_ds,  batch_size=BATCH_SIZE, shuffle=False, num_workers=2)\n",
        "\n",
        "class_names = full_dataset.classes\n",
        "num_classes = len(class_names)\n",
        "print(\"Classes:\", class_names)\n",
        "print(f\"Total: {len(full_dataset)} | Train: {len(train_ds)} | Val: {len(val_ds)} | Test: {len(test_ds)}\")"
      ],
      "metadata": {
        "colab": {
          "base_uri": "https://localhost:8080/"
        },
        "id": "BpP-2Mvcr-VZ",
        "outputId": "dde965d8-ec00-43c3-e45d-47ea1cfaa323"
      },
      "execution_count": 5,
      "outputs": [
        {
          "output_type": "stream",
          "name": "stdout",
          "text": [
            "Classes: ['Clinical Actinic Keratosis', 'Clinical Basal Cell Carcinoma', 'Clinical Dermatofibroma', 'Clinical Melanoma', 'Clinical Nevus', 'Clinical Pigmented Benign Keratosis', 'Clinical Seborrheic Keratosis', 'Clinical Squamous Cell Carcinoma', 'Clinical Vascular Lesion']\n",
            "Total: 903 | Train: 632 | Val: 135 | Test: 136\n"
          ]
        }
      ]
    },
    {
      "cell_type": "code",
      "source": [
        "import timm\n",
        "import torch.nn as nn\n",
        "\n",
        "device = torch.device(\"cuda\" if torch.cuda.is_available() else \"cpu\")\n",
        "print(\"Device:\", device)\n",
        "\n",
        "class HybridEffViT(nn.Module):\n",
        "    def __init__(self, num_classes):\n",
        "        super().__init__()\n",
        "\n",
        "        self.cnn = timm.create_model(\n",
        "            \"efficientnet_b0\", pretrained=True, num_classes=0, global_pool=\"avg\"\n",
        "        )\n",
        "        self.vit = timm.create_model(\n",
        "            \"vit_base_patch16_224\", pretrained=True, num_classes=0, global_pool=\"avg\"\n",
        "        )\n",
        "\n",
        "        cnn_feat_dim = self.cnn.num_features\n",
        "        vit_feat_dim = self.vit.num_features\n",
        "        fusion_dim = cnn_feat_dim + vit_feat_dim\n",
        "\n",
        "        self.head = nn.Sequential(\n",
        "            nn.LayerNorm(fusion_dim),\n",
        "            nn.Linear(fusion_dim, 512),\n",
        "            nn.ReLU(inplace=True),\n",
        "            nn.Dropout(p=0.3),\n",
        "            nn.Linear(512, num_classes)\n",
        "        )\n",
        "\n",
        "    def forward(self, x):\n",
        "        z_cnn = self.cnn(x)  # [B, C_cnn]\n",
        "        z_vit = self.vit(x)  # [B, C_vit]\n",
        "        z = torch.cat([z_cnn, z_vit], dim=1)  # [B, C_cnn + C_vit]\n",
        "        logits = self.head(z)                 # [B, num_classes]\n",
        "        return logits\n",
        "\n",
        "model = HybridEffViT(num_classes=num_classes).to(device)\n",
        "\n",
        "criterion = nn.CrossEntropyLoss()\n",
        "optimizer = torch.optim.Adam(model.parameters(), lr=LR, weight_decay=1e-4)"
      ],
      "metadata": {
        "colab": {
          "base_uri": "https://localhost:8080/",
          "height": 237,
          "referenced_widgets": [
            "cfd0cc12a79d45f881b006a178b26297",
            "c6588110df5b4b5889479df0ccbff75f",
            "f86aa2d618834422867bee09fd60fafc",
            "d070c67114bc4ab5b29f1d6cc0dd35f5",
            "cc95d240adb1480099bd40626c0dd2ba",
            "4c16e10b45fc417c92d92dc21e97f326",
            "96fba70d766e408ca3adc43249a1cfa6",
            "e239443354f64e1993d106c5220ac812",
            "327ac84926ad4ee5b7bd341efb7919a9",
            "c76fd38230c945acaa6c44dcf0e55cc2",
            "f744eb31b8dd4c2f8e991bdc99cc4be7",
            "fa575772c5f6471292dd3aa62e702bd8",
            "bba8f6a1dba543e4955c9c92eaf4cc9e",
            "83c4e2cd3ac24461982fb503d26f40d1",
            "dfaccdf2fb624189bdcf5937513edba9",
            "6b23969221084ca0bf7bd54fddf9f2ce",
            "cffcfec5fc3e482fab422affe0f11b4c",
            "aa76f66d87bd4888a3111cd1c0686af0",
            "9b1a7e5e5c334b08a37ab39b5fa5abec",
            "b45fca6e04d2426188902ad19d86315c",
            "d13881cd9235468ea5d630aba1bf0295",
            "89b7f2e8be0849b8b46f8a4085204ef2"
          ]
        },
        "id": "GfmtNMEpsI-b",
        "outputId": "de6f77b6-d18c-4618-bb63-d8169c2be889"
      },
      "execution_count": 6,
      "outputs": [
        {
          "output_type": "stream",
          "name": "stdout",
          "text": [
            "Device: cpu\n"
          ]
        },
        {
          "output_type": "stream",
          "name": "stderr",
          "text": [
            "/usr/local/lib/python3.12/dist-packages/huggingface_hub/utils/_auth.py:94: UserWarning: \n",
            "The secret `HF_TOKEN` does not exist in your Colab secrets.\n",
            "To authenticate with the Hugging Face Hub, create a token in your settings tab (https://huggingface.co/settings/tokens), set it as secret in your Google Colab and restart your session.\n",
            "You will be able to reuse this secret in all of your notebooks.\n",
            "Please note that authentication is recommended but still optional to access public models or datasets.\n",
            "  warnings.warn(\n"
          ]
        },
        {
          "output_type": "display_data",
          "data": {
            "text/plain": [
              "model.safetensors:   0%|          | 0.00/21.4M [00:00<?, ?B/s]"
            ],
            "application/vnd.jupyter.widget-view+json": {
              "version_major": 2,
              "version_minor": 0,
              "model_id": "cfd0cc12a79d45f881b006a178b26297"
            }
          },
          "metadata": {}
        },
        {
          "output_type": "display_data",
          "data": {
            "text/plain": [
              "model.safetensors:   0%|          | 0.00/346M [00:00<?, ?B/s]"
            ],
            "application/vnd.jupyter.widget-view+json": {
              "version_major": 2,
              "version_minor": 0,
              "model_id": "fa575772c5f6471292dd3aa62e702bd8"
            }
          },
          "metadata": {}
        },
        {
          "output_type": "stream",
          "name": "stderr",
          "text": [
            "WARNING:timm.models._builder:Unexpected keys (norm.bias, norm.weight) found while loading pretrained weights. This may be expected if model is being adapted.\n"
          ]
        }
      ]
    },
    {
      "cell_type": "code",
      "source": [
        "def evaluate_loader(model, loader, criterion, device):\n",
        "    model.eval()\n",
        "    loss_sum, correct, total = 0.0, 0, 0\n",
        "    with torch.no_grad():\n",
        "        for imgs, labels in loader:\n",
        "            imgs, labels = imgs.to(device), labels.to(device)\n",
        "            outputs = model(imgs)\n",
        "            loss = criterion(outputs, labels)\n",
        "            loss_sum += loss.item()\n",
        "            preds = outputs.argmax(1)\n",
        "            correct += (preds == labels).sum().item()\n",
        "            total += labels.size(0)\n",
        "    return loss_sum / max(len(loader), 1), correct / total if total else 0.0\n",
        "\n",
        "def train_model(model, epochs=EPOCHS, patience=PATIENCE):\n",
        "    best_val_loss = float(\"inf\")\n",
        "    best_epoch = 0\n",
        "    no_improve = 0\n",
        "    history = {\"train_loss\": [], \"val_loss\": [], \"train_acc\": [], \"val_acc\": []}\n",
        "\n",
        "    for epoch in range(epochs):\n",
        "        model.train()\n",
        "        run_loss, correct, total = 0.0, 0, 0\n",
        "        for imgs, labels in train_loader:\n",
        "            imgs, labels = imgs.to(device), labels.to(device)\n",
        "            optimizer.zero_grad()\n",
        "            outputs = model(imgs)\n",
        "            loss = criterion(outputs, labels)\n",
        "            loss.backward()\n",
        "            optimizer.step()\n",
        "            run_loss += loss.item()\n",
        "            preds = outputs.argmax(1)\n",
        "            correct += (preds == labels).sum().item()\n",
        "            total += labels.size(0)\n",
        "\n",
        "        train_loss = run_loss / max(len(train_loader), 1)\n",
        "        train_acc = correct / total if total else 0.0\n",
        "\n",
        "        val_loss, val_acc = evaluate_loader(model, val_loader, criterion, device)\n",
        "\n",
        "        history[\"train_loss\"].append(train_loss)\n",
        "        history[\"train_acc\"].append(train_acc)\n",
        "        history[\"val_loss\"].append(val_loss)\n",
        "        history[\"val_acc\"].append(val_acc)\n",
        "\n",
        "        print(f\"Epoch {epoch+1:02d}/{epochs} | \"\n",
        "              f\"Train Loss: {train_loss:.4f} Acc: {train_acc:.4f} | \"\n",
        "              f\"Val Loss: {val_loss:.4f} Acc: {val_acc:.4f}\")\n",
        "\n",
        "        if val_loss < best_val_loss - 1e-5:\n",
        "            best_val_loss = val_loss\n",
        "            best_epoch = epoch + 1\n",
        "            no_improve = 0\n",
        "            torch.save(model.state_dict(), \"best_hybrid_effi_vit.pth\")\n",
        "        else:\n",
        "            no_improve += 1\n",
        "            if no_improve >= patience:\n",
        "                print(f\"⏹ Early stopping at epoch {epoch+1}. Best epoch: {best_epoch}\")\n",
        "                break\n",
        "\n",
        "    print(f\"Best epoch: {best_epoch} | Best Val Loss: {best_val_loss:.4f}\")\n",
        "    return history, best_epoch\n",
        "\n",
        "history, best_epoch = train_model(model, epochs=EPOCHS, patience=PATIENCE)"
      ],
      "metadata": {
        "colab": {
          "base_uri": "https://localhost:8080/"
        },
        "id": "H45q1xJBsW7F",
        "outputId": "23dffbd0-178d-4c4b-9b5d-08dae297cd88"
      },
      "execution_count": 8,
      "outputs": [
        {
          "output_type": "stream",
          "name": "stdout",
          "text": [
            "Epoch 01/20 | Train Loss: 0.2353 Acc: 0.9478 | Val Loss: 0.1037 Acc: 0.9852\n",
            "Epoch 02/20 | Train Loss: 0.0368 Acc: 0.9937 | Val Loss: 0.0423 Acc: 0.9926\n",
            "Epoch 03/20 | Train Loss: 0.0089 Acc: 0.9984 | Val Loss: 0.0389 Acc: 0.9926\n",
            "Epoch 04/20 | Train Loss: 0.0042 Acc: 1.0000 | Val Loss: 0.0419 Acc: 0.9926\n",
            "Epoch 05/20 | Train Loss: 0.0063 Acc: 0.9968 | Val Loss: 0.0456 Acc: 0.9852\n",
            "Epoch 06/20 | Train Loss: 0.0032 Acc: 1.0000 | Val Loss: 0.0409 Acc: 0.9852\n",
            "⏹ Early stopping at epoch 6. Best epoch: 3\n",
            "Best epoch: 3 | Best Val Loss: 0.0389\n"
          ]
        }
      ]
    },
    {
      "cell_type": "code",
      "source": [
        "model.load_state_dict(torch.load(\"best_hybrid_effi_vit.pth\", map_location=device))\n",
        "test_loss, test_acc = evaluate_loader(model, test_loader, criterion, device)\n",
        "print(f\"[Test] Loss: {test_loss:.4f} | Acc: {test_acc:.4f}\")"
      ],
      "metadata": {
        "colab": {
          "base_uri": "https://localhost:8080/"
        },
        "id": "ZOpkyakOVQTR",
        "outputId": "f74e5214-b018-44a9-ea4e-a2a4fdcd7c3f"
      },
      "execution_count": 9,
      "outputs": [
        {
          "output_type": "stream",
          "name": "stdout",
          "text": [
            "[Test] Loss: 0.0857 | Acc: 0.9926\n"
          ]
        }
      ]
    },
    {
      "cell_type": "code",
      "source": [
        "import matplotlib.pyplot as plt\n",
        "\n",
        "plt.figure()\n",
        "plt.plot(history[\"train_loss\"], label=\"Train Loss\")\n",
        "plt.plot(history[\"val_loss\"],   label=\"Val Loss\")\n",
        "plt.scatter([best_epoch-1], [test_loss], marker='*', s=160, label=\"Test Loss\")\n",
        "plt.xlabel(\"Epoch\"); plt.ylabel(\"Loss\"); plt.title(\"Loss Curves\"); plt.legend(); plt.show()\n",
        "\n",
        "plt.figure()\n",
        "plt.plot(history[\"train_acc\"], label=\"Train Acc\")\n",
        "plt.plot(history[\"val_acc\"],   label=\"Val Acc\")\n",
        "plt.scatter([best_epoch-1], [test_acc], marker='*', s=160, label=\"Test Acc\")\n",
        "plt.xlabel(\"Epoch\"); plt.ylabel(\"Accuracy\"); plt.title(\"Accuracy Curves\"); plt.legend(); plt.show()"
      ],
      "metadata": {
        "colab": {
          "base_uri": "https://localhost:8080/",
          "height": 927
        },
        "id": "FiNYliMsX07p",
        "outputId": "88ebd0f1-119b-48eb-f6e5-dd35d4848dce"
      },
      "execution_count": 10,
      "outputs": [
        {
          "output_type": "display_data",
          "data": {
            "text/plain": [
              "<Figure size 640x480 with 1 Axes>"
            ],
            "image/png": "[encoded data removed]"
          },
          "metadata": {}
        },
        {
          "output_type": "display_data",
          "data": {
            "text/plain": [
              "<Figure size 640x480 with 1 Axes>"
            ],
            "image/png": "[encoded data removed]"
          },
          "metadata": {}
        }
      ]
    }
  ]
}